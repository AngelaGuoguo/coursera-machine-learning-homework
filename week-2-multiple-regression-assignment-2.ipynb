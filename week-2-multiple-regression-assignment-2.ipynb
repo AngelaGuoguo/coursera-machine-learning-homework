{
 "cells": [
  {
   "cell_type": "markdown",
   "metadata": {},
   "source": [
    "# Regression Week 2: Multiple Regression (gradient descent)"
   ]
  },
  {
   "cell_type": "markdown",
   "metadata": {},
   "source": [
    "In the first notebook we explored multiple regression using graphlab create. Now we will use graphlab along with numpy to solve for the regression weights with gradient descent.\n",
    "\n",
    "In this notebook we will cover estimating multiple regression weights via gradient descent. You will:\n",
    "* Add a constant column of 1's to a graphlab SFrame to account for the intercept\n",
    "* Convert an SFrame into a Numpy array\n",
    "* Write a predict_output() function using Numpy\n",
    "* Write a numpy function to compute the derivative of the regression weights with respect to a single feature\n",
    "* Write gradient descent function to compute the regression weights given an initial weight vector, step size and tolerance.\n",
    "* Use the gradient descent function to estimate regression weights for multiple features"
   ]
  },
  {
   "cell_type": "markdown",
   "metadata": {},
   "source": [
    "# Fire up graphlab create"
   ]
  },
  {
   "cell_type": "markdown",
   "metadata": {},
   "source": [
    "Make sure you have the latest version of graphlab (>= 1.7)"
   ]
  },
  {
   "cell_type": "code",
   "execution_count": 3,
   "metadata": {
    "collapsed": false
   },
   "outputs": [],
   "source": [
    "import graphlab"
   ]
  },
  {
   "cell_type": "markdown",
   "metadata": {},
   "source": [
    "# Load in house sales data\n",
    "\n",
    "Dataset is from house sales in King County, the region where the city of Seattle, WA is located."
   ]
  },
  {
   "cell_type": "code",
   "execution_count": 4,
   "metadata": {
    "collapsed": false
   },
   "outputs": [
    {
     "name": "stdout",
     "output_type": "stream",
     "text": [
      "This non-commercial license of GraphLab Create for academic use is assigned to sharecj@126.com and will expire on May 02, 2018.\n"
     ]
    },
    {
     "name": "stderr",
     "output_type": "stream",
     "text": [
      "[INFO] graphlab.cython.cy_server: GraphLab Create v2.1 started. Logging: C:\\Users\\yangshuo\\AppData\\Local\\Temp\\graphlab_server_1493869621.log.0\n"
     ]
    }
   ],
   "source": [
    "sales = graphlab.SFrame('kc_house_data.gl/')"
   ]
  },
  {
   "cell_type": "markdown",
   "metadata": {},
   "source": [
    "If we want to do any \"feature engineering\" like creating new features or adjusting existing ones we should do this directly using the SFrames as seen in the other Week 2 notebook. For this notebook, however, we will work with the existing features."
   ]
  },
  {
   "cell_type": "markdown",
   "metadata": {},
   "source": [
    "# Convert to Numpy Array"
   ]
  },
  {
   "cell_type": "markdown",
   "metadata": {},
   "source": [
    "Although SFrames offer a number of benefits to users (especially when using Big Data and built-in graphlab functions) in order to understand the details of the implementation of algorithms it's important to work with a library that allows for direct (and optimized) matrix operations. Numpy is a Python solution to work with matrices (or any multi-dimensional \"array\").\n",
    "\n",
    "Recall that the predicted value given the weights and the features is just the dot product between the feature and weight vector. Similarly, if we put all of the features row-by-row in a matrix then the predicted value for *all* the observations can be computed by right multiplying the \"feature matrix\" by the \"weight vector\". \n",
    "\n",
    "First we need to take the SFrame of our data and convert it into a 2D numpy array (also called a matrix). To do this we use graphlab's built in .to_dataframe() which converts the SFrame into a Pandas (another python library) dataframe. We can then use Panda's .as_matrix() to convert the dataframe into a numpy matrix."
   ]
  },
  {
   "cell_type": "code",
   "execution_count": 5,
   "metadata": {
    "collapsed": true
   },
   "outputs": [],
   "source": [
    "import numpy as np # note this allows us to refer to numpy as np instead "
   ]
  },
  {
   "cell_type": "markdown",
   "metadata": {},
   "source": [
    "Now we will write a function that will accept an SFrame, a list of feature names (e.g. ['sqft_living', 'bedrooms']) and an target feature e.g. ('price') and will return two things:\n",
    "* A numpy matrix whose columns are the desired features plus a constant column (this is how we create an 'intercept')\n",
    "* A numpy array containing the values of the output\n",
    "\n",
    "With this in mind, complete the following function (where there's an empty line you should write a line of code that does what the comment above indicates)\n",
    "\n",
    "**Please note you will need GraphLab Create version at least 1.7.1 in order for .to_numpy() to work!**"
   ]
  },
  {
   "cell_type": "code",
   "execution_count": 10,
   "metadata": {
    "collapsed": false
   },
   "outputs": [],
   "source": [
    "def get_numpy_data(data_sframe, features, output):\n",
    "    data_sframe['constant'] = 1 # this is how you add a constant column to an SFrame\n",
    "    # add the column 'constant' to the front of the features list so that we can extract it along with the others:\n",
    "    features = ['constant'] + features # this is how you combine two lists\n",
    "    # select the columns of data_SFrame given by the features list into the SFrame features_sframe (now including constant):\n",
    "    features_sframe = data_sframe[features]\n",
    "    # the following line will convert the features_SFrame into a numpy matrix:\n",
    "    feature_matrix = features_sframe.to_numpy()\n",
    "    # assign the column of data_sframe associated with the output to the SArray output_sarray\n",
    "    output_array = data_sframe[output]\n",
    "    # the following will convert the SArray into a numpy array by first converting it to a list\n",
    "    output_array = output_array.to_numpy()\n",
    "    return(feature_matrix, output_array)"
   ]
  },
  {
   "cell_type": "markdown",
   "metadata": {},
   "source": [
    "For testing let's use the 'sqft_living' feature and a constant as our features and price as our output:"
   ]
  },
  {
   "cell_type": "code",
   "execution_count": 11,
   "metadata": {
    "collapsed": false
   },
   "outputs": [
    {
     "name": "stdout",
     "output_type": "stream",
     "text": [
      "[  1.00000000e+00   1.18000000e+03]\n",
      "221900.0\n"
     ]
    }
   ],
   "source": [
    "(example_features, example_output) = get_numpy_data(sales, ['sqft_living'], 'price') # the [] around 'sqft_living' makes it a list\n",
    "print example_features[0,:] # this accesses the first row of the data the ':' indicates 'all columns'\n",
    "print example_output[0] # and the corresponding output"
   ]
  },
  {
   "cell_type": "markdown",
   "metadata": {},
   "source": [
    "# Predicting output given regression weights"
   ]
  },
  {
   "cell_type": "markdown",
   "metadata": {},
   "source": [
    "Suppose we had the weights [1.0, 1.0] and the features [1.0, 1180.0] and we wanted to compute the predicted output 1.0\\*1.0 + 1.0\\*1180.0 = 1181.0 this is the dot product between these two arrays. If they're numpy arrayws we can use np.dot() to compute this:"
   ]
  },
  {
   "cell_type": "code",
   "execution_count": 12,
   "metadata": {
    "collapsed": false
   },
   "outputs": [
    {
     "name": "stdout",
     "output_type": "stream",
     "text": [
      "1181.0\n"
     ]
    }
   ],
   "source": [
    "my_weights = np.array([1., 1.]) # the example weights\n",
    "my_features = example_features[0,] # we'll use the first data point\n",
    "predicted_value = np.dot(my_features, my_weights)\n",
    "print predicted_value"
   ]
  },
  {
   "cell_type": "markdown",
   "metadata": {},
   "source": [
    "np.dot() also works when dealing with a matrix and a vector. Recall that the predictions from all the observations is just the RIGHT (as in weights on the right) dot product between the features *matrix* and the weights *vector*. With this in mind finish the following predict_output function to compute the predictions for an entire matrix of features given the matrix and the weights:"
   ]
  },
  {
   "cell_type": "code",
   "execution_count": 13,
   "metadata": {
    "collapsed": true
   },
   "outputs": [],
   "source": [
    "def predict_output(feature_matrix, weights):\n",
    "    # assume feature_matrix is a numpy matrix containing the features as columns and weights is a corresponding numpy array\n",
    "    # create the predictions vector by using np.dot()\n",
    "    predictions = np.dot(feature_matrix, weights)\n",
    "\n",
    "    return(predictions)"
   ]
  },
  {
   "cell_type": "markdown",
   "metadata": {},
   "source": [
    "If you want to test your code run the following cell:"
   ]
  },
  {
   "cell_type": "code",
   "execution_count": 14,
   "metadata": {
    "collapsed": false
   },
   "outputs": [
    {
     "name": "stdout",
     "output_type": "stream",
     "text": [
      "1181.0\n",
      "2571.0\n"
     ]
    }
   ],
   "source": [
    "test_predictions = predict_output(example_features, my_weights)\n",
    "print test_predictions[0] # should be 1181.0\n",
    "print test_predictions[1] # should be 2571.0"
   ]
  },
  {
   "cell_type": "markdown",
   "metadata": {},
   "source": [
    "# Computing the Derivative"
   ]
  },
  {
   "cell_type": "markdown",
   "metadata": {},
   "source": [
    "We are now going to move to computing the derivative of the regression cost function. Recall that the cost function is the sum over the data points of the squared difference between an observed output and a predicted output.\n",
    "\n",
    "Since the derivative of a sum is the sum of the derivatives we can compute the derivative for a single data point and then sum over data points. We can write the squared difference between the observed output and predicted output for a single point as follows:\n",
    "\n",
    "(w[0]\\*[CONSTANT] + w[1]\\*[feature_1] + ... + w[i] \\*[feature_i] + ... +  w[k]\\*[feature_k] - output)^2\n",
    "\n",
    "Where we have k features and a constant. So the derivative with respect to weight w[i] by the chain rule is:\n",
    "\n",
    "2\\*(w[0]\\*[CONSTANT] + w[1]\\*[feature_1] + ... + w[i] \\*[feature_i] + ... +  w[k]\\*[feature_k] - output)\\* [feature_i]\n",
    "\n",
    "The term inside the paranethesis is just the error (difference between prediction and output). So we can re-write this as:\n",
    "\n",
    "2\\*error\\*[feature_i]\n",
    "\n",
    "That is, the derivative for the weight for feature i is the sum (over data points) of 2 times the product of the error and the feature itself. In the case of the constant then this is just twice the sum of the errors!\n",
    "\n",
    "Recall that twice the sum of the product of two vectors is just twice the dot product of the two vectors. Therefore the derivative for the weight for feature_i is just two times the dot product between the values of feature_i and the current errors. \n",
    "\n",
    "With this in mind complete the following derivative function which computes the derivative of the weight given the value of the feature (over all data points) and the errors (over all data points)."
   ]
  },
  {
   "cell_type": "code",
   "execution_count": 18,
   "metadata": {
    "collapsed": true
   },
   "outputs": [],
   "source": [
    "def feature_derivative(errors, feature):\n",
    "    # Assume that errors and feature are both numpy arrays of the same length (number of data points)\n",
    "    # compute twice the dot product of these vectors as 'derivative' and return the value\n",
    "    derivative = 2 * np.dot(errors, feature)\n",
    "    return(derivative)"
   ]
  },
  {
   "cell_type": "markdown",
   "metadata": {},
   "source": [
    "To test your feature derivartive run the following:"
   ]
  },
  {
   "cell_type": "code",
   "execution_count": 19,
   "metadata": {
    "collapsed": false
   },
   "outputs": [
    {
     "name": "stdout",
     "output_type": "stream",
     "text": [
      "-23345850022.0\n",
      "-23345850022.0\n"
     ]
    }
   ],
   "source": [
    "(example_features, example_output) = get_numpy_data(sales, ['sqft_living'], 'price') \n",
    "my_weights = np.array([0., 0.]) # this makes all the predictions 0\n",
    "test_predictions = predict_output(example_features, my_weights) \n",
    "# just like SFrames 2 numpy arrays can be elementwise subtracted with '-': \n",
    "errors = test_predictions - example_output # prediction errors in this case is just the -example_output\n",
    "feature = example_features[:,0] # let's compute the derivative with respect to 'constant', the \":\" indicates \"all rows\"\n",
    "derivative = feature_derivative(errors, feature)\n",
    "print derivative\n",
    "print -np.sum(example_output)*2 # should be the same as derivative"
   ]
  },
  {
   "cell_type": "markdown",
   "metadata": {},
   "source": [
    "# Gradient Descent"
   ]
  },
  {
   "cell_type": "markdown",
   "metadata": {},
   "source": [
    "Now we will write a function that performs a gradient descent. The basic premise is simple. Given a starting point we update the current weights by moving in the negative gradient direction. Recall that the gradient is the direction of *increase* and therefore the negative gradient is the direction of *decrease* and we're trying to *minimize* a cost function. \n",
    "\n",
    "The amount by which we move in the negative gradient *direction*  is called the 'step size'. We stop when we are 'sufficiently close' to the optimum. We define this by requiring that the magnitude (length) of the gradient vector to be smaller than a fixed 'tolerance'.\n",
    "\n",
    "With this in mind, complete the following gradient descent function below using your derivative function above. For each step in the gradient descent we update the weight for each feature befofe computing our stopping criteria"
   ]
  },
  {
   "cell_type": "code",
   "execution_count": 27,
   "metadata": {
    "collapsed": true
   },
   "outputs": [],
   "source": [
    "from math import sqrt # recall that the magnitude/length of a vector [g[0], g[1], g[2]] is sqrt(g[0]^2 + g[1]^2 + g[2]^2)"
   ]
  },
  {
   "cell_type": "code",
   "execution_count": 52,
   "metadata": {
    "collapsed": false
   },
   "outputs": [],
   "source": [
    "def regression_gradient_descent(feature_matrix, output, initial_weights, step_size, tolerance):\n",
    "    converged = False \n",
    "    weights = np.array(initial_weights) # make sure it's a numpy array\n",
    "    while not converged:\n",
    "        # compute the predictions based on feature_matrix and weights using your predict_output() function\n",
    "        predictions = predict_output(feature_matrix, weights)\n",
    "        # compute the errors as predictions - output\n",
    "        errors = predictions - output\n",
    "\n",
    "        gradient_sum_squares = 0 # initialize the gradient sum of squares\n",
    "        # while we haven't reached the tolerance yet, update each feature's weight\n",
    "        for i in range(len(weights)): # loop over each weight\n",
    "            # Recall that feature_matrix[:, i] is the feature column associated with weights[i]\n",
    "            # compute the derivative for weight[i]:\n",
    "            derivative = feature_derivative(feature_matrix[:, i], errors)\n",
    "            # add the squared value of the derivative to the gradient sum of squares (for assessing convergence)\n",
    "            gradient_sum_squares = np.dot(derivative, derivative)\n",
    "            # subtract the step size times the derivative from the current weight\n",
    "            weights[i] = weights[i] - step_size * derivative\n",
    "        # compute the square-root of the gradient sum of squares to get the gradient magnitude:\n",
    "        gradient_magnitude = sqrt(gradient_sum_squares)\n",
    "        print 'gradient magnitude: %s' % gradient_magnitude\n",
    "        if gradient_magnitude < tolerance:\n",
    "            converged = True\n",
    "    return(weights)"
   ]
  },
  {
   "cell_type": "markdown",
   "metadata": {},
   "source": [
    "A few things to note before we run the gradient descent. Since the gradient is a sum over all the data points and involves a product of an error and a feature the gradient itself will be very large since the features are large (squarefeet) and the output is large (prices). So while you might expect \"tolerance\" to be small, small is only relative to the size of the features. \n",
    "\n",
    "For similar reasons the step size will be much smaller than you might expect but this is because the gradient has such large values."
   ]
  },
  {
   "cell_type": "markdown",
   "metadata": {},
   "source": [
    "# Running the Gradient Descent as Simple Regression"
   ]
  },
  {
   "cell_type": "markdown",
   "metadata": {},
   "source": [
    "First let's split the data into training and test data."
   ]
  },
  {
   "cell_type": "code",
   "execution_count": 21,
   "metadata": {
    "collapsed": true
   },
   "outputs": [],
   "source": [
    "train_data,test_data = sales.random_split(.8,seed=0)"
   ]
  },
  {
   "cell_type": "markdown",
   "metadata": {},
   "source": [
    "Although the gradient descent is designed for multiple regression since the constant is now a feature we can use the gradient descent function to estimat the parameters in the simple regression on squarefeet. The folowing cell sets up the feature_matrix, output, initial weights and step size for the first model:"
   ]
  },
  {
   "cell_type": "code",
   "execution_count": 73,
   "metadata": {
    "collapsed": false
   },
   "outputs": [],
   "source": [
    "# let's test out the gradient descent\n",
    "simple_features = ['sqft_living']\n",
    "my_output = 'price'\n",
    "(simple_feature_matrix, output) = get_numpy_data(train_data, simple_features, my_output)\n",
    "initial_weights = np.array([-47000., 1.])\n",
    "step_size = 7e-12\n",
    "tolerance = 2.5e3"
   ]
  },
  {
   "cell_type": "markdown",
   "metadata": {},
   "source": [
    "Next run your gradient descent with the above parameters."
   ]
  },
  {
   "cell_type": "code",
   "execution_count": 74,
   "metadata": {
    "collapsed": false
   },
   "outputs": [
    {
     "name": "stdout",
     "output_type": "stream",
     "text": [
      "gradient magnitude: 5.05515266926e+13\n",
      "gradient magnitude: 1.31274499632e+13\n",
      "gradient magnitude: 3.40899580752e+12\n",
      "gradient magnitude: 8.85263508348e+11\n",
      "gradient magnitude: 2.29889247422e+11\n",
      "gradient magnitude: 59698683168.9\n",
      "gradient magnitude: 15502825422.5\n",
      "gradient magnitude: 4025843755.44\n",
      "gradient magnitude: 1045449719.97\n",
      "gradient magnitude: 271486794.211\n",
      "gradient magnitude: 70501258.9015\n",
      "gradient magnitude: 18307751.4197\n",
      "gradient magnitude: 4754575.5882\n",
      "gradient magnitude: 1234354.19119\n",
      "gradient magnitude: 320878.282028\n",
      "gradient magnitude: 82991.5468597\n",
      "gradient magnitude: 21887.2020874\n",
      "gradient magnitude: 5348.1849823\n",
      "gradient magnitude: 1724.42474365\n",
      "[-46999.88719802    281.91214555]\n"
     ]
    }
   ],
   "source": [
    "weights = regression_gradient_descent(simple_feature_matrix, output, initial_weights, step_size, tolerance)\n",
    "print weights"
   ]
  },
  {
   "cell_type": "markdown",
   "metadata": {},
   "source": [
    "How do your weights compare to those achieved in week 1 (don't expect them to be exactly the same)? \n",
    "\n",
    "**Quiz Question: What is the value of the weight for sqft_living -- the second element of ‘simple_weights’ (rounded to 1 decimal place)?**"
   ]
  },
  {
   "cell_type": "markdown",
   "metadata": {},
   "source": [
    "Use your newly estimated weights and your predict_output() function to compute the predictions on all the TEST data (you will need to create a numpy array of the test feature_matrix and test output first:"
   ]
  },
  {
   "cell_type": "code",
   "execution_count": 75,
   "metadata": {
    "collapsed": false
   },
   "outputs": [],
   "source": [
    "(test_simple_feature_matrix, test_output) = get_numpy_data(test_data, simple_features, my_output)"
   ]
  },
  {
   "cell_type": "markdown",
   "metadata": {},
   "source": [
    "Now compute your predictions using test_simple_feature_matrix and your weights from above."
   ]
  },
  {
   "cell_type": "code",
   "execution_count": 76,
   "metadata": {
    "collapsed": false
   },
   "outputs": [],
   "source": [
    "predictions = np.dot(test_simple_feature_matrix, weights)"
   ]
  },
  {
   "cell_type": "markdown",
   "metadata": {},
   "source": [
    "**Quiz Question: What is the predicted price for the 1st house in the TEST data set for model 1 (round to nearest dollar)?**"
   ]
  },
  {
   "cell_type": "code",
   "execution_count": 77,
   "metadata": {
    "collapsed": false
   },
   "outputs": [
    {
     "name": "stdout",
     "output_type": "stream",
     "text": [
      "356134.48094\n"
     ]
    }
   ],
   "source": [
    "print predictions[0]"
   ]
  },
  {
   "cell_type": "markdown",
   "metadata": {},
   "source": [
    "Now that you have the predictions on test data, compute the RSS on the test data set. Save this value for comparison later. Recall that RSS is the sum of the squared errors (difference between prediction and output)."
   ]
  },
  {
   "cell_type": "code",
   "execution_count": 78,
   "metadata": {
    "collapsed": false
   },
   "outputs": [
    {
     "name": "stdout",
     "output_type": "stream",
     "text": [
      "2.7540004708e+14\n"
     ]
    }
   ],
   "source": [
    "test_set_residuals = predictions - test_output\n",
    "test_set_RSS = np.dot(test_set_residuals, test_set_residuals)\n",
    "print test_set_RSS"
   ]
  },
  {
   "cell_type": "markdown",
   "metadata": {},
   "source": [
    "# Running a multiple regression"
   ]
  },
  {
   "cell_type": "markdown",
   "metadata": {},
   "source": [
    "Now we will use more than one actual feature. Use the following code to produce the weights for a second model with the following parameters:"
   ]
  },
  {
   "cell_type": "code",
   "execution_count": 62,
   "metadata": {
    "collapsed": false
   },
   "outputs": [],
   "source": [
    "model_features = ['sqft_living', 'sqft_living15'] # sqft_living15 is the average squarefeet for the nearest 15 neighbors. \n",
    "my_output = 'price'\n",
    "(feature_matrix, output) = get_numpy_data(train_data, model_features, my_output)\n",
    "initial_weights = np.array([-100000., 1., 1.])\n",
    "step_size = 4e-12\n",
    "tolerance = 1e9"
   ]
  },
  {
   "cell_type": "markdown",
   "metadata": {},
   "source": [
    "Use the above parameters to estimate the model weights. Record these values for your quiz."
   ]
  },
  {
   "cell_type": "code",
   "execution_count": 63,
   "metadata": {
    "collapsed": false
   },
   "outputs": [
    {
     "name": "stdout",
     "output_type": "stream",
     "text": [
      "gradient magnitude: 4.89822593371e+13\n",
      "gradient magnitude: 1.58558470033e+13\n",
      "gradient magnitude: 4.27000346518e+12\n",
      "gradient magnitude: 1.95683475947e+12\n",
      "gradient magnitude: 10520528506.5\n",
      "gradient magnitude: 5.99537128254e+11\n",
      "gradient magnitude: 4.02546257133e+11\n",
      "gradient magnitude: 4.49681823946e+11\n",
      "gradient magnitude: 4.21430725824e+11\n",
      "gradient magnitude: 4.16884889043e+11\n",
      "gradient magnitude: 4.05302411297e+11\n",
      "gradient magnitude: 3.962106711e+11\n",
      "gradient magnitude: 3.86647354676e+11\n",
      "gradient magnitude: 3.77524109204e+11\n",
      "gradient magnitude: 3.68551208365e+11\n",
      "gradient magnitude: 3.59811707747e+11\n",
      "gradient magnitude: 3.51273202835e+11\n",
      "gradient magnitude: 3.42939257716e+11\n",
      "gradient magnitude: 3.348024344e+11\n",
      "gradient magnitude: 3.26858857535e+11\n",
      "gradient magnitude: 3.19103693471e+11\n",
      "gradient magnitude: 3.11532548983e+11\n",
      "gradient magnitude: 3.04141034051e+11\n",
      "gradient magnitude: 2.96924894148e+11\n",
      "gradient magnitude: 2.89879965975e+11\n",
      "gradient magnitude: 2.83002188025e+11\n",
      "gradient magnitude: 2.7628759422e+11\n",
      "gradient magnitude: 2.69732312874e+11\n",
      "gradient magnitude: 2.63332564071e+11\n",
      "gradient magnitude: 2.57084657606e+11\n",
      "gradient magnitude: 2.5098499082e+11\n",
      "gradient magnitude: 2.45030046537e+11\n",
      "gradient magnitude: 2.39216391027e+11\n",
      "gradient magnitude: 2.3354067203e+11\n",
      "gradient magnitude: 2.27999616824e+11\n",
      "gradient magnitude: 2.22590030337e+11\n",
      "gradient magnitude: 2.17308793301e+11\n",
      "gradient magnitude: 2.1215286046e+11\n",
      "gradient magnitude: 2.0711925881e+11\n",
      "gradient magnitude: 2.02205085885e+11\n",
      "gradient magnitude: 1.97407508082e+11\n",
      "gradient magnitude: 1.92723759032e+11\n",
      "gradient magnitude: 1.88151138001e+11\n",
      "gradient magnitude: 1.83687008331e+11\n",
      "gradient magnitude: 1.79328795924e+11\n",
      "gradient magnitude: 1.75073987757e+11\n",
      "gradient magnitude: 1.70920130429e+11\n",
      "gradient magnitude: 1.66864828752e+11\n",
      "gradient magnitude: 1.62905744363e+11\n",
      "gradient magnitude: 1.59040594384e+11\n",
      "gradient magnitude: 1.55267150099e+11\n",
      "gradient magnitude: 1.51583235672e+11\n",
      "gradient magnitude: 1.4798672689e+11\n",
      "gradient magnitude: 1.44475549941e+11\n",
      "gradient magnitude: 1.41047680217e+11\n",
      "gradient magnitude: 1.37701141146e+11\n",
      "gradient magnitude: 1.34434003052e+11\n",
      "gradient magnitude: 1.31244382045e+11\n",
      "gradient magnitude: 1.28130438932e+11\n",
      "gradient magnitude: 1.25090378156e+11\n",
      "gradient magnitude: 1.22122446762e+11\n",
      "gradient magnitude: 1.19224933389e+11\n",
      "gradient magnitude: 1.16396167276e+11\n",
      "gradient magnitude: 1.13634517307e+11\n",
      "gradient magnitude: 1.10938391063e+11\n",
      "gradient magnitude: 1.08306233909e+11\n",
      "gradient magnitude: 1.05736528096e+11\n",
      "gradient magnitude: 1.03227791885e+11\n",
      "gradient magnitude: 1.00778578693e+11\n",
      "gradient magnitude: 98387476258.2\n",
      "gradient magnitude: 96053105828.8\n",
      "gradient magnitude: 93774121364.1\n",
      "gradient magnitude: 91549208760.1\n",
      "gradient magnitude: 89377085091.9\n",
      "gradient magnitude: 87256497873.6\n",
      "gradient magnitude: 85186224336.1\n",
      "gradient magnitude: 83165070722.1\n",
      "gradient magnitude: 81191871597.7\n",
      "gradient magnitude: 79265489180.5\n",
      "gradient magnitude: 77384812683.5\n",
      "gradient magnitude: 75548757674.3\n",
      "gradient magnitude: 73756265450.5\n",
      "gradient magnitude: 72006302428.3\n",
      "gradient magnitude: 70297859547.5\n",
      "gradient magnitude: 68629951688.7\n",
      "gradient magnitude: 67001617106.1\n",
      "gradient magnitude: 65411916872.3\n",
      "gradient magnitude: 63859934337.4\n",
      "gradient magnitude: 62344774600.1\n",
      "gradient magnitude: 60865563991.8\n",
      "gradient magnitude: 59421449572.7\n",
      "gradient magnitude: 58011598640.2\n",
      "gradient magnitude: 56635198248.9\n",
      "gradient magnitude: 55291454741.1\n",
      "gradient magnitude: 53979593290.0\n",
      "gradient magnitude: 52698857452.5\n",
      "gradient magnitude: 51448508733.0\n",
      "gradient magnitude: 50227826157.8\n",
      "gradient magnitude: 49036105859.1\n",
      "gradient magnitude: 47872660669.4\n",
      "gradient magnitude: 46736819725.0\n",
      "gradient magnitude: 45627928079.6\n",
      "gradient magnitude: 44545346325.9\n",
      "gradient magnitude: 43488450227.7\n",
      "gradient magnitude: 42456630359.6\n",
      "gradient magnitude: 41449291755.5\n",
      "gradient magnitude: 40465853565.6\n",
      "gradient magnitude: 39505748721.7\n",
      "gradient magnitude: 38568423609.8\n",
      "gradient magnitude: 37653337751.3\n",
      "gradient magnitude: 36759963491.1\n",
      "gradient magnitude: 35887785693.3\n",
      "gradient magnitude: 35036301444.5\n",
      "gradient magnitude: 34205019763.2\n",
      "gradient magnitude: 33393461317.5\n",
      "gradient magnitude: 32601158148.0\n",
      "gradient magnitude: 31827653398.3\n",
      "gradient magnitude: 31072501051.5\n",
      "gradient magnitude: 30335265673.1\n",
      "gradient magnitude: 29615522159.8\n",
      "gradient magnitude: 28912855494.4\n",
      "gradient magnitude: 28226860506.5\n",
      "gradient magnitude: 27557141638.9\n",
      "gradient magnitude: 26903312719.8\n",
      "gradient magnitude: 26264996739.3\n",
      "gradient magnitude: 25641825632.9\n",
      "gradient magnitude: 25033440068.9\n",
      "gradient magnitude: 24439489241.1\n",
      "gradient magnitude: 23859630666.6\n",
      "gradient magnitude: 23293529988.6\n",
      "gradient magnitude: 22740860782.9\n",
      "gradient magnitude: 22201304370.7\n",
      "gradient magnitude: 21674549633.8\n",
      "gradient magnitude: 21160292835.8\n",
      "gradient magnitude: 20658237447.1\n",
      "gradient magnitude: 20168093973.3\n",
      "gradient magnitude: 19689579788.8\n",
      "gradient magnitude: 19222418973.7\n",
      "gradient magnitude: 18766342154.5\n",
      "gradient magnitude: 18321086349.1\n",
      "gradient magnitude: 17886394814.9\n",
      "gradient magnitude: 17462016900.9\n",
      "gradient magnitude: 17047707903.0\n",
      "gradient magnitude: 16643228923.1\n",
      "gradient magnitude: 16248346731.4\n",
      "gradient magnitude: 15862833631.7\n",
      "gradient magnitude: 15486467329.9\n",
      "gradient magnitude: 15119030806.6\n",
      "gradient magnitude: 14760312191.2\n",
      "gradient magnitude: 14410104639.9\n",
      "gradient magnitude: 14068206216.8\n",
      "gradient magnitude: 13734419776.9\n",
      "gradient magnitude: 13408552853.1\n",
      "gradient magnitude: 13090417544.5\n",
      "gradient magnitude: 12779830408.5\n",
      "gradient magnitude: 12476612354.9\n",
      "gradient magnitude: 12180588542.7\n",
      "gradient magnitude: 11891588279.2\n",
      "gradient magnitude: 11609444921.6\n",
      "gradient magnitude: 11333995781.0\n",
      "gradient magnitude: 11065082028.2\n",
      "gradient magnitude: 10802548602.9\n",
      "gradient magnitude: 10546244123.4\n",
      "gradient magnitude: 10296020800.0\n",
      "gradient magnitude: 10051734349.3\n",
      "gradient magnitude: 9813243911.28\n",
      "gradient magnitude: 9580411968.11\n",
      "gradient magnitude: 9353104264.62\n",
      "gradient magnitude: 9131189731.06\n",
      "gradient magnitude: 8914540407.49\n",
      "gradient magnitude: 8703031369.98\n",
      "gradient magnitude: 8496540658.57\n",
      "gradient magnitude: 8294949206.98\n",
      "gradient magnitude: 8098140773.91\n",
      "gradient magnitude: 7906001876.05\n",
      "gradient magnitude: 7718421722.62\n",
      "gradient magnitude: 7535292151.51\n",
      "gradient magnitude: 7356507566.86\n",
      "gradient magnitude: 7181964878.26\n",
      "gradient magnitude: 7011563441.22\n",
      "gradient magnitude: 6845204999.16\n",
      "gradient magnitude: 6682793626.82\n",
      "gradient magnitude: 6524235674.81\n",
      "gradient magnitude: 6369439715.77\n",
      "gradient magnitude: 6218316491.53\n",
      "gradient magnitude: 6070778861.69\n",
      "gradient magnitude: 5926741753.38\n",
      "gradient magnitude: 5786122112.19\n",
      "gradient magnitude: 5648838854.28\n",
      "gradient magnitude: 5514812819.63\n",
      "gradient magnitude: 5383966726.39\n",
      "gradient magnitude: 5256225126.36\n",
      "gradient magnitude: 5131514361.37\n",
      "gradient magnitude: 5009762520.95\n",
      "gradient magnitude: 4890899400.78\n",
      "gradient magnitude: 4774856462.23\n",
      "gradient magnitude: 4661566792.82\n",
      "gradient magnitude: 4550965067.69\n",
      "gradient magnitude: 4442987511.86\n",
      "gradient magnitude: 4337571863.52\n",
      "gradient magnitude: 4234657338.1\n",
      "gradient magnitude: 4134184593.21\n",
      "gradient magnitude: 4036095694.43\n",
      "gradient magnitude: 3940334081.94\n",
      "gradient magnitude: 3846844537.85\n",
      "gradient magnitude: 3755573154.39\n",
      "gradient magnitude: 3666467302.82\n",
      "gradient magnitude: 3579475603.09\n",
      "gradient magnitude: 3494547894.2\n",
      "gradient magnitude: 3411635205.31\n",
      "gradient magnitude: 3330689727.45\n",
      "gradient magnitude: 3251664785.98\n",
      "gradient magnitude: 3174514813.7\n",
      "gradient magnitude: 3099195324.52\n",
      "gradient magnitude: 3025662887.85\n",
      "gradient magnitude: 2953875103.58\n",
      "gradient magnitude: 2883790577.55\n",
      "gradient magnitude: 2815368897.76\n",
      "gradient magnitude: 2748570611.01\n",
      "gradient magnitude: 2683357200.22\n",
      "gradient magnitude: 2619691062.14\n",
      "gradient magnitude: 2557535485.71\n",
      "gradient magnitude: 2496854630.92\n",
      "gradient magnitude: 2437613508.06\n",
      "gradient magnitude: 2379777957.64\n",
      "gradient magnitude: 2323314630.63\n",
      "gradient magnitude: 2268190969.26\n",
      "gradient magnitude: 2214375188.21\n",
      "gradient magnitude: 2161836256.32\n",
      "gradient magnitude: 2110543878.71\n",
      "gradient magnitude: 2060468479.25\n",
      "gradient magnitude: 2011581183.56\n",
      "gradient magnitude: 1963853802.33\n",
      "gradient magnitude: 1917258815.09\n",
      "gradient magnitude: 1871769354.33\n",
      "gradient magnitude: 1827359190.0\n",
      "gradient magnitude: 1784002714.38\n",
      "gradient magnitude: 1741674927.36\n",
      "gradient magnitude: 1700351421.95\n",
      "gradient magnitude: 1660008370.29\n",
      "gradient magnitude: 1620622509.82\n",
      "gradient magnitude: 1582171129.94\n",
      "gradient magnitude: 1544632058.91\n",
      "gradient magnitude: 1507983650.99\n",
      "gradient magnitude: 1472204774.07\n",
      "gradient magnitude: 1437274797.38\n",
      "gradient magnitude: 1403173579.67\n",
      "gradient magnitude: 1369881457.56\n",
      "gradient magnitude: 1337379234.2\n",
      "gradient magnitude: 1305648168.23\n",
      "gradient magnitude: 1274669962.93\n",
      "gradient magnitude: 1244426755.71\n",
      "gradient magnitude: 1214901107.78\n",
      "gradient magnitude: 1186075994.14\n",
      "gradient magnitude: 1157934793.68\n",
      "gradient magnitude: 1130461279.68\n",
      "gradient magnitude: 1103639610.42\n",
      "gradient magnitude: 1077454320.03\n",
      "gradient magnitude: 1051890309.6\n",
      "gradient magnitude: 1026932838.46\n",
      "gradient magnitude: 1002567515.67\n",
      "gradient magnitude: 978780291.759\n",
      "[ -9.99999688e+04   2.45035462e+02   6.53198581e+01]\n"
     ]
    }
   ],
   "source": [
    "weights = regression_gradient_descent(feature_matrix, output, initial_weights, step_size, tolerance)\n",
    "print weights"
   ]
  },
  {
   "cell_type": "markdown",
   "metadata": {},
   "source": [
    "Use your newly estimated weights and the predict_output function to compute the predictions on the TEST data. Don't forget to create a numpy array for these features from the test set first!"
   ]
  },
  {
   "cell_type": "code",
   "execution_count": 64,
   "metadata": {
    "collapsed": false
   },
   "outputs": [],
   "source": [
    "(feature_matrix, output) = get_numpy_data(test_data, model_features, my_output)\n",
    "predictions = predict_output(feature_matrix, weights)"
   ]
  },
  {
   "cell_type": "markdown",
   "metadata": {},
   "source": [
    "**Quiz Question: What is the predicted price for the 1st house in the TEST data set for model 2 (round to nearest dollar)?**"
   ]
  },
  {
   "cell_type": "code",
   "execution_count": 65,
   "metadata": {
    "collapsed": false
   },
   "outputs": [
    {
     "name": "stdout",
     "output_type": "stream",
     "text": [
      "366670.08905\n"
     ]
    }
   ],
   "source": [
    "print predictions[0]"
   ]
  },
  {
   "cell_type": "markdown",
   "metadata": {},
   "source": [
    "What is the actual price for the 1st house in the test data set?"
   ]
  },
  {
   "cell_type": "code",
   "execution_count": 69,
   "metadata": {
    "collapsed": false
   },
   "outputs": [
    {
     "name": "stdout",
     "output_type": "stream",
     "text": [
      "310000.0\n"
     ]
    }
   ],
   "source": [
    "print test_data[0]['price']"
   ]
  },
  {
   "cell_type": "markdown",
   "metadata": {},
   "source": [
    "**Quiz Question: Which estimate was closer to the true price for the 1st house on the TEST data set, model 1 or model 2?**"
   ]
  },
  {
   "cell_type": "markdown",
   "metadata": {},
   "source": [
    "Now use your predictions and the output to compute the RSS for model 2 on TEST data."
   ]
  },
  {
   "cell_type": "code",
   "execution_count": 70,
   "metadata": {
    "collapsed": false
   },
   "outputs": [
    {
     "name": "stdout",
     "output_type": "stream",
     "text": [
      "2.70261662856e+14\n"
     ]
    }
   ],
   "source": [
    "test_set_residuals = predictions - output\n",
    "test_set_RSS = np.dot(test_set_residuals, test_set_residuals)\n",
    "print test_set_RSS"
   ]
  },
  {
   "cell_type": "markdown",
   "metadata": {},
   "source": [
    "**Quiz Question: Which model (1 or 2) has lowest RSS on all of the TEST data? **"
   ]
  },
  {
   "cell_type": "code",
   "execution_count": null,
   "metadata": {
    "collapsed": true
   },
   "outputs": [],
   "source": [
    "# model2"
   ]
  }
 ],
 "metadata": {
  "kernelspec": {
   "display_name": "Python 2",
   "language": "python",
   "name": "python2"
  },
  "language_info": {
   "codemirror_mode": {
    "name": "ipython",
    "version": 2
   },
   "file_extension": ".py",
   "mimetype": "text/x-python",
   "name": "python",
   "nbconvert_exporter": "python",
   "pygments_lexer": "ipython2",
   "version": "2.7.13"
  }
 },
 "nbformat": 4,
 "nbformat_minor": 0
}

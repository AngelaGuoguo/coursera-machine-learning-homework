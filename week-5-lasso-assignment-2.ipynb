{
 "cells": [
  {
   "cell_type": "markdown",
   "metadata": {},
   "source": [
    "# Regression Week 5: LASSO (coordinate descent)"
   ]
  },
  {
   "cell_type": "markdown",
   "metadata": {},
   "source": [
    "In this notebook, you will implement your very own LASSO solver via coordinate descent. You will:\n",
    "* Write a function to normalize features\n",
    "* Implement coordinate descent for LASSO\n",
    "* Explore effects of L1 penalty"
   ]
  },
  {
   "cell_type": "markdown",
   "metadata": {},
   "source": [
    "# Fire up graphlab create"
   ]
  },
  {
   "cell_type": "markdown",
   "metadata": {},
   "source": [
    "Make sure you have the latest version of graphlab (>= 1.7)"
   ]
  },
  {
   "cell_type": "code",
   "execution_count": 1,
   "metadata": {
    "collapsed": false
   },
   "outputs": [],
   "source": [
    "import graphlab"
   ]
  },
  {
   "cell_type": "markdown",
   "metadata": {},
   "source": [
    "# Load in house sales data\n",
    "\n",
    "Dataset is from house sales in King County, the region where the city of Seattle, WA is located."
   ]
  },
  {
   "cell_type": "code",
   "execution_count": 2,
   "metadata": {
    "collapsed": false
   },
   "outputs": [
    {
     "name": "stdout",
     "output_type": "stream",
     "text": [
      "This non-commercial license of GraphLab Create for academic use is assigned to sharecj@126.com and will expire on May 02, 2018.\n"
     ]
    },
    {
     "name": "stderr",
     "output_type": "stream",
     "text": [
      "[INFO] graphlab.cython.cy_server: GraphLab Create v2.1 started. Logging: /tmp/graphlab_server_1494644133.log\n"
     ]
    }
   ],
   "source": [
    "sales = graphlab.SFrame('kc_house_data.gl/')\n",
    "# In the dataset, 'floors' was defined with type string, \n",
    "# so we'll convert them to int, before using it below\n",
    "sales['floors'] = sales['floors'].astype(int) "
   ]
  },
  {
   "cell_type": "markdown",
   "metadata": {},
   "source": [
    "If we want to do any \"feature engineering\" like creating new features or adjusting existing ones we should do this directly using the SFrames as seen in the first notebook of Week 2. For this notebook, however, we will work with the existing features."
   ]
  },
  {
   "cell_type": "markdown",
   "metadata": {},
   "source": [
    "# Import useful functions from previous notebook"
   ]
  },
  {
   "cell_type": "markdown",
   "metadata": {},
   "source": [
    "As in Week 2, we convert the SFrame into a 2D Numpy array. Copy and paste `get_num_data()` from the second notebook of Week 2."
   ]
  },
  {
   "cell_type": "code",
   "execution_count": 3,
   "metadata": {
    "collapsed": true
   },
   "outputs": [],
   "source": [
    "import numpy as np # note this allows us to refer to numpy as np instead "
   ]
  },
  {
   "cell_type": "code",
   "execution_count": 4,
   "metadata": {
    "collapsed": true
   },
   "outputs": [],
   "source": [
    "def get_numpy_data(data_sframe, features, output):\n",
    "    data_sframe['constant'] = 1 # this is how you add a constant column to an SFrame\n",
    "    # add the column 'constant' to the front of the features list so that we can extract it along with the others:\n",
    "    features = ['constant'] + features # this is how you combine two lists\n",
    "    # select the columns of data_SFrame given by the features list into the SFrame features_sframe (now including constant):\n",
    "    features_sframe = data_sframe[features]\n",
    "    # the following line will convert the features_SFrame into a numpy matrix:\n",
    "    feature_matrix = features_sframe.to_numpy()\n",
    "    # assign the column of data_sframe associated with the output to the SArray output_sarray\n",
    "    output_array = data_sframe[output]\n",
    "    # the following will convert the SArray into a numpy array by first converting it to a list\n",
    "    output_array = output_array.to_numpy()\n",
    "    return(feature_matrix, output_array)"
   ]
  },
  {
   "cell_type": "markdown",
   "metadata": {},
   "source": [
    "Also, copy and paste the `predict_output()` function to compute the predictions for an entire matrix of features given the matrix and the weights:"
   ]
  },
  {
   "cell_type": "code",
   "execution_count": 5,
   "metadata": {
    "collapsed": true
   },
   "outputs": [],
   "source": [
    "def predict_output(feature_matrix, weights):\n",
    "    # assume feature_matrix is a numpy matrix containing the features as columns and weights is a corresponding numpy array\n",
    "    # create the predictions vector by using np.dot()\n",
    "    predictions = np.dot(feature_matrix, weights)\n",
    "\n",
    "    return(predictions)"
   ]
  },
  {
   "cell_type": "markdown",
   "metadata": {},
   "source": [
    "# Normalize features\n",
    "In the house dataset, features vary wildly in their relative magnitude: `sqft_living` is very large overall compared to `bedrooms`, for instance. As a result, weight for `sqft_living` would be much smaller than weight for `bedrooms`. This is problematic because \"small\" weights are dropped first as `l1_penalty` goes up. \n",
    "\n",
    "To give equal considerations for all features, we need to **normalize features** as discussed in the lectures: we divide each feature by its 2-norm so that the transformed feature has norm 1.\n",
    "\n",
    "Let's see how we can do this normalization easily with Numpy: let us first consider a small matrix."
   ]
  },
  {
   "cell_type": "code",
   "execution_count": 6,
   "metadata": {
    "collapsed": false
   },
   "outputs": [
    {
     "name": "stdout",
     "output_type": "stream",
     "text": [
      "[[  3.   5.   8.]\n",
      " [  4.  12.  15.]]\n"
     ]
    }
   ],
   "source": [
    "X = np.array([[3.,5.,8.],[4.,12.,15.]])\n",
    "print X"
   ]
  },
  {
   "cell_type": "markdown",
   "metadata": {},
   "source": [
    "Numpy provides a shorthand for computing 2-norms of each column:"
   ]
  },
  {
   "cell_type": "code",
   "execution_count": 7,
   "metadata": {
    "collapsed": false
   },
   "outputs": [
    {
     "name": "stdout",
     "output_type": "stream",
     "text": [
      "[  5.  13.  17.]\n"
     ]
    }
   ],
   "source": [
    "norms = np.linalg.norm(X, axis=0) # gives [norm(X[:,0]), norm(X[:,1]), norm(X[:,2])]\n",
    "print norms"
   ]
  },
  {
   "cell_type": "markdown",
   "metadata": {},
   "source": [
    "To normalize, apply element-wise division:"
   ]
  },
  {
   "cell_type": "code",
   "execution_count": 8,
   "metadata": {
    "collapsed": false
   },
   "outputs": [
    {
     "name": "stdout",
     "output_type": "stream",
     "text": [
      "[[ 0.6         0.38461538  0.47058824]\n",
      " [ 0.8         0.92307692  0.88235294]]\n"
     ]
    }
   ],
   "source": [
    "print X / norms # gives [X[:,0]/norm(X[:,0]), X[:,1]/norm(X[:,1]), X[:,2]/norm(X[:,2])]"
   ]
  },
  {
   "cell_type": "markdown",
   "metadata": {},
   "source": [
    "Using the shorthand we just covered, write a short function called `normalize_features(feature_matrix)`, which normalizes columns of a given feature matrix. The function should return a pair `(normalized_features, norms)`, where the second item contains the norms of original features. As discussed in the lectures, we will use these norms to normalize the test data in the same way as we normalized the training data. "
   ]
  },
  {
   "cell_type": "code",
   "execution_count": 11,
   "metadata": {
    "collapsed": true
   },
   "outputs": [],
   "source": [
    "def normalize_features(feature_matrix):\n",
    "    norms = np.linalg.norm(feature_matrix, axis=0)\n",
    "    normalized_features = feature_matrix / norms\n",
    "    return normalized_features, norms"
   ]
  },
  {
   "cell_type": "markdown",
   "metadata": {},
   "source": [
    "To test the function, run the following:"
   ]
  },
  {
   "cell_type": "code",
   "execution_count": 12,
   "metadata": {
    "collapsed": false
   },
   "outputs": [
    {
     "name": "stdout",
     "output_type": "stream",
     "text": [
      "[[ 0.6  0.6  0.6]\n",
      " [ 0.8  0.8  0.8]]\n",
      "[  5.  10.  15.]\n"
     ]
    }
   ],
   "source": [
    "features, norms = normalize_features(np.array([[3.,6.,9.],[4.,8.,12.]]))\n",
    "print features\n",
    "# should print\n",
    "# [[ 0.6  0.6  0.6]\n",
    "#  [ 0.8  0.8  0.8]]\n",
    "print norms\n",
    "# should print\n",
    "# [5.  10.  15.]"
   ]
  },
  {
   "cell_type": "markdown",
   "metadata": {},
   "source": [
    "# Implementing Coordinate Descent with normalized features"
   ]
  },
  {
   "cell_type": "markdown",
   "metadata": {},
   "source": [
    "We seek to obtain a sparse set of weights by minimizing the LASSO cost function\n",
    "```\n",
    "SUM[ (prediction - output)^2 ] + lambda*( |w[1]| + ... + |w[k]|).\n",
    "```\n",
    "(By convention, we do not include `w[0]` in the L1 penalty term. We never want to push the intercept to zero.)\n",
    "\n",
    "The absolute value sign makes the cost function non-differentiable, so simple gradient descent is not viable (you would need to implement a method called subgradient descent). Instead, we will use **coordinate descent**: at each iteration, we will fix all weights but weight `i` and find the value of weight `i` that minimizes the objective. That is, we look for\n",
    "```\n",
    "argmin_{w[i]} [ SUM[ (prediction - output)^2 ] + lambda*( |w[1]| + ... + |w[k]|) ]\n",
    "```\n",
    "where all weights other than `w[i]` are held to be constant. We will optimize one `w[i]` at a time, circling through the weights multiple times.  \n",
    "  1. Pick a coordinate `i`\n",
    "  2. Compute `w[i]` that minimizes the cost function `SUM[ (prediction - output)^2 ] + lambda*( |w[1]| + ... + |w[k]|)`\n",
    "  3. Repeat Steps 1 and 2 for all coordinates, multiple times"
   ]
  },
  {
   "cell_type": "markdown",
   "metadata": {},
   "source": [
    "For this notebook, we use **cyclical coordinate descent with normalized features**, where we cycle through coordinates 0 to (d-1) in order, and assume the features were normalized as discussed above. The formula for optimizing each coordinate is as follows:\n",
    "```\n",
    "       ┌ (ro[i] + lambda/2)     if ro[i] < -lambda/2\n",
    "w[i] = ├ 0                      if -lambda/2 <= ro[i] <= lambda/2\n",
    "       └ (ro[i] - lambda/2)     if ro[i] > lambda/2\n",
    "```\n",
    "where\n",
    "```\n",
    "ro[i] = SUM[ [feature_i]*(output - prediction + w[i]*[feature_i]) ].\n",
    "```\n",
    "\n",
    "Note that we do not regularize the weight of the constant feature (intercept) `w[0]`, so, for this weight, the update is simply:\n",
    "```\n",
    "w[0] = ro[i]\n",
    "```"
   ]
  },
  {
   "cell_type": "markdown",
   "metadata": {},
   "source": [
    "## Effect of L1 penalty"
   ]
  },
  {
   "cell_type": "markdown",
   "metadata": {},
   "source": [
    "Let us consider a simple model with 2 features:"
   ]
  },
  {
   "cell_type": "code",
   "execution_count": 169,
   "metadata": {
    "collapsed": true
   },
   "outputs": [],
   "source": [
    "simple_features = ['sqft_living', 'bedrooms']\n",
    "my_output = 'price'\n",
    "(simple_feature_matrix, output) = get_numpy_data(sales, simple_features, my_output)"
   ]
  },
  {
   "cell_type": "markdown",
   "metadata": {},
   "source": [
    "Don't forget to normalize features:"
   ]
  },
  {
   "cell_type": "code",
   "execution_count": 170,
   "metadata": {
    "collapsed": false
   },
   "outputs": [],
   "source": [
    "simple_feature_matrix, norms = normalize_features(simple_feature_matrix)"
   ]
  },
  {
   "cell_type": "markdown",
   "metadata": {},
   "source": [
    "We assign some random set of initial weights and inspect the values of `ro[i]`:"
   ]
  },
  {
   "cell_type": "code",
   "execution_count": 171,
   "metadata": {
    "collapsed": false
   },
   "outputs": [],
   "source": [
    "weights = np.array([1., 4., 1.])"
   ]
  },
  {
   "cell_type": "markdown",
   "metadata": {},
   "source": [
    "Use `predict_output()` to make predictions on this data."
   ]
  },
  {
   "cell_type": "code",
   "execution_count": 174,
   "metadata": {
    "collapsed": false
   },
   "outputs": [],
   "source": [
    "prediction = predict_output(simple_feature_matrix, weights)"
   ]
  },
  {
   "cell_type": "markdown",
   "metadata": {},
   "source": [
    "Compute the values of `ro[i]` for each feature in this simple model, using the formula given above, using the formula:\n",
    "```\n",
    "ro[i] = SUM[ [feature_i]*(output - prediction + w[i]*[feature_i]) ]\n",
    "```\n",
    "\n",
    "*Hint: You can get a Numpy vector for feature_i using:*\n",
    "```\n",
    "simple_feature_matrix[:,i]\n",
    "```"
   ]
  },
  {
   "cell_type": "code",
   "execution_count": 175,
   "metadata": {
    "collapsed": false
   },
   "outputs": [
    {
     "name": "stdout",
     "output_type": "stream",
     "text": [
      "87939470.773\n"
     ]
    }
   ],
   "source": [
    "w=weights[1]\n",
    "i=1\n",
    "feature_i = simple_feature_matrix[:, i]\n",
    "ro = np.dot(feature_i, (output - prediction + w * feature_i))\n",
    "print ro"
   ]
  },
  {
   "cell_type": "markdown",
   "metadata": {},
   "source": [
    "***QUIZ QUESTION***\n",
    "\n",
    "Recall that, whenever `ro[i]` falls between `-l1_penalty/2` and `l1_penalty/2`, the corresponding weight `w[i]` is sent to zero. Now suppose we were to take one step of coordinate descent on either feature 1 or feature 2. What range of values of `l1_penalty` **would not** set `w[1]` zero, but **would** set `w[2]` to zero, if we were to take a step in that coordinate? "
   ]
  },
  {
   "cell_type": "code",
   "execution_count": null,
   "metadata": {
    "collapsed": false
   },
   "outputs": [],
   "source": []
  },
  {
   "cell_type": "markdown",
   "metadata": {},
   "source": [
    "***QUIZ QUESTION***\n",
    "\n",
    "What range of values of `l1_penalty` would set **both** `w[1]` and `w[2]` to zero, if we were to take a step in that coordinate? "
   ]
  },
  {
   "cell_type": "code",
   "execution_count": 178,
   "metadata": {
    "collapsed": false
   },
   "outputs": [
    {
     "name": "stdout",
     "output_type": "stream",
     "text": [
      "80966698.676\n"
     ]
    }
   ],
   "source": [
    "w=weights[2]\n",
    "i=2\n",
    "feature_i = simple_feature_matrix[:, i]\n",
    "ro = np.dot(feature_i, (output - prediction + w * feature_i))\n",
    "print ro"
   ]
  },
  {
   "cell_type": "markdown",
   "metadata": {},
   "source": [
    "So we can say that `ro[i]` quantifies the significance of the i-th feature: the larger `ro[i]` is, the more likely it is for the i-th feature to be retained."
   ]
  },
  {
   "cell_type": "markdown",
   "metadata": {},
   "source": [
    "## Single Coordinate Descent Step"
   ]
  },
  {
   "cell_type": "markdown",
   "metadata": {},
   "source": [
    "Using the formula above, implement coordinate descent that minimizes the cost function over a single feature i. Note that the intercept (weight 0) is not regularized. The function should accept feature matrix, output, current weights, l1 penalty, and index of feature to optimize over. The function should return new weight for feature i."
   ]
  },
  {
   "cell_type": "code",
   "execution_count": 127,
   "metadata": {
    "collapsed": true
   },
   "outputs": [],
   "source": [
    "def lasso_coordinate_descent_step(i, feature_matrix, output, weights, l1_penalty):\n",
    "    # compute prediction\n",
    "    prediction = predict_output(feature_matrix, weights)\n",
    "    # compute ro[i] = SUM[ [feature_i]*(output - prediction + weight[i]*[feature_i]) ]\n",
    "    feature_i = feature_matrix[:, i]\n",
    "    ro_i = np.dot(feature_i, (output - prediction + weights[i] * feature_i))\n",
    "\n",
    "    if i == 0: # intercept -- do not regularize\n",
    "        new_weight_i = ro_i \n",
    "    elif ro_i < -l1_penalty/2.:\n",
    "        new_weight_i = ro_i + l1_penalty/2\n",
    "    elif ro_i > l1_penalty/2.:\n",
    "        new_weight_i = ro_i - l1_penalty/2\n",
    "    else:\n",
    "        new_weight_i = 0.\n",
    "    \n",
    "    return new_weight_i"
   ]
  },
  {
   "cell_type": "markdown",
   "metadata": {},
   "source": [
    "To test the function, run the following cell:"
   ]
  },
  {
   "cell_type": "code",
   "execution_count": 128,
   "metadata": {
    "collapsed": false
   },
   "outputs": [
    {
     "name": "stdout",
     "output_type": "stream",
     "text": [
      "0.425558846691\n"
     ]
    }
   ],
   "source": [
    "# should print 0.425558846691\n",
    "import math\n",
    "print lasso_coordinate_descent_step(1, np.array([[3./math.sqrt(13),1./math.sqrt(10)],[2./math.sqrt(13),3./math.sqrt(10)]]), \n",
    "                                   np.array([1., 1.]), np.array([1., 4.]), 0.1)"
   ]
  },
  {
   "cell_type": "markdown",
   "metadata": {
    "collapsed": true
   },
   "source": [
    "## Cyclical coordinate descent "
   ]
  },
  {
   "cell_type": "markdown",
   "metadata": {},
   "source": [
    "Now that we have a function that optimizes the cost function over a single coordinate, let us implement cyclical coordinate descent where we optimize coordinates 0, 1, ..., (d-1) in order and repeat.\n",
    "\n",
    "When do we know to stop? Each time we scan all the coordinates (features) once, we measure the change in weight for each coordinate. If no coordinate changes by more than a specified threshold, we stop."
   ]
  },
  {
   "cell_type": "markdown",
   "metadata": {},
   "source": [
    "For each iteration:\n",
    "1. As you loop over features in order and perform coordinate descent, measure how much each coordinate changes.\n",
    "2. After the loop, if the maximum change across all coordinates is falls below the tolerance, stop. Otherwise, go back to step 1.\n",
    "\n",
    "Return weights\n",
    "\n",
    "**IMPORTANT: when computing a new weight for coordinate i, make sure to incorporate the new weights for coordinates 0, 1, ..., i-1. One good way is to update your weights variable in-place. See following pseudocode for illustration.**\n",
    "```\n",
    "for i in range(len(weights)):\n",
    "    old_weights_i = weights[i] # remember old value of weight[i], as it will be overwritten\n",
    "    # the following line uses new values for weight[0], weight[1], ..., weight[i-1]\n",
    "    #     and old values for weight[i], ..., weight[d-1]\n",
    "    weights[i] = lasso_coordinate_descent_step(i, feature_matrix, output, weights, l1_penalty)\n",
    "    \n",
    "    # use old_weights_i to compute change in coordinate\n",
    "    ...\n",
    "```"
   ]
  },
  {
   "cell_type": "code",
   "execution_count": 68,
   "metadata": {
    "collapsed": false
   },
   "outputs": [],
   "source": [
    "def lasso_cyclical_coordinate_descent(feature_matrix, output, initial_weights, l1_penalty, tolerance):\n",
    "    weights = initial_weights\n",
    "    while True:\n",
    "        max_change = 0\n",
    "        for i in range(len(weights)):\n",
    "            old_weights_i = weights[i]\n",
    "            weights[i] = lasso_coordinate_descent_step(i, feature_matrix, output, weights, l1_penalty)\n",
    "            change = abs(weights[i] - old_weights_i)\n",
    "            if change > max_change:\n",
    "                max_change = change\n",
    "        print max_change\n",
    "        if max_change < tolerance:\n",
    "            break\n",
    "    return weights"
   ]
  },
  {
   "cell_type": "markdown",
   "metadata": {},
   "source": [
    "Using the following parameters, learn the weights on the sales dataset. "
   ]
  },
  {
   "cell_type": "code",
   "execution_count": 137,
   "metadata": {
    "collapsed": false
   },
   "outputs": [],
   "source": [
    "simple_features = ['sqft_living', 'bedrooms']\n",
    "my_output = 'price'\n",
    "initial_weights = np.zeros(3)\n",
    "l1_penalty = 1e7\n",
    "tolerance = 1.0"
   ]
  },
  {
   "cell_type": "markdown",
   "metadata": {},
   "source": [
    "First create a normalized version of the feature matrix, `normalized_simple_feature_matrix`."
   ]
  },
  {
   "cell_type": "code",
   "execution_count": 138,
   "metadata": {
    "collapsed": false
   },
   "outputs": [],
   "source": [
    "(simple_feature_matrix, output) = get_numpy_data(sales, simple_features, my_output)\n",
    "(normalized_simple_feature_matrix, simple_norms) = normalize_features(simple_feature_matrix) # normalize features"
   ]
  },
  {
   "cell_type": "markdown",
   "metadata": {},
   "source": [
    "Then, run your implementation of LASSO coordinate descent:"
   ]
  },
  {
   "cell_type": "code",
   "execution_count": 139,
   "metadata": {
    "collapsed": false
   },
   "outputs": [
    {
     "name": "stdout",
     "output_type": "stream",
     "text": [
      "79400304.6581\n",
      "9138168.3665\n",
      "8194809.40937\n",
      "6598905.03827\n",
      "5522173.1943\n",
      "4621129.81031\n",
      "3867108.10625\n",
      "3236118.81061\n",
      "2708086.93955\n",
      "2266213.1094\n",
      "1896439.06265\n",
      "1587000.40319\n",
      "1328052.31095\n",
      "1111356.328\n",
      "930018.251241\n",
      "778268.79269\n",
      "651280.029038\n",
      "545011.800818\n",
      "456083.174344\n",
      "381664.876995\n",
      "319389.283634\n",
      "267275.090398\n",
      "223664.279321\n",
      "187169.368346\n",
      "156629.268444\n",
      "131072.343461\n",
      "109685.497423\n",
      "91788.3058116\n",
      "76811.3677894\n",
      "64278.190664\n",
      "53790.0302253\n",
      "45013.2046617\n",
      "37668.4784415\n",
      "31522.1784089\n",
      "26378.7594496\n",
      "22074.5832053\n",
      "18472.7119036\n",
      "15458.5516701\n",
      "12936.2067131\n",
      "10825.4283904\n",
      "9059.06209101\n",
      "7580.91070477\n",
      "6343.94670621\n",
      "5308.81596931\n",
      "4442.58571219\n",
      "3717.6967377\n",
      "3111.08663489\n",
      "2603.45604621\n",
      "2178.65465674\n",
      "1823.16737023\n",
      "1525.68432523\n",
      "1276.74107066\n",
      "1068.41745343\n",
      "894.085638065\n",
      "748.199241444\n",
      "626.11687411\n",
      "523.954474047\n",
      "438.461734913\n",
      "366.918697149\n",
      "307.049212292\n",
      "256.948526978\n",
      "215.0226833\n",
      "179.937806472\n",
      "150.577667948\n",
      "126.008172076\n",
      "105.447638087\n",
      "88.2419305816\n",
      "73.8436484337\n",
      "61.7947089039\n",
      "51.7117738575\n",
      "43.2740537673\n",
      "36.2131017856\n",
      "30.3042730205\n",
      "25.3595775627\n",
      "21.2216994688\n",
      "17.7589916885\n",
      "14.8612879515\n",
      "12.436397478\n",
      "10.4071721658\n",
      "8.70905200392\n",
      "7.28801114857\n",
      "6.09883906692\n",
      "5.10370212048\n",
      "4.27093993127\n",
      "3.57405808568\n",
      "2.99088525027\n",
      "2.50286770985\n",
      "2.09447913989\n",
      "1.75272664428\n",
      "1.46673727036\n",
      "1.22741233557\n",
      "1.02713758126\n",
      "0.859541337937\n",
      "[ 21624998.36636291  63157246.78545424         0.        ]\n"
     ]
    }
   ],
   "source": [
    "weights = lasso_cyclical_coordinate_descent(normalized_simple_feature_matrix, output,\n",
    "                                            initial_weights, l1_penalty, tolerance)\n",
    "print weights"
   ]
  },
  {
   "cell_type": "markdown",
   "metadata": {},
   "source": [
    "***QUIZ QUESTIONS***\n",
    "1. What is the RSS of the learned model on the normalized dataset? (Hint: use the normalized feature matrix when you make predictions.)\n",
    "2. Which features had weight zero at convergence?"
   ]
  },
  {
   "cell_type": "code",
   "execution_count": 140,
   "metadata": {
    "collapsed": false
   },
   "outputs": [
    {
     "name": "stdout",
     "output_type": "stream",
     "text": [
      "1.63049248148e+15\n"
     ]
    }
   ],
   "source": [
    "predictions = np.dot(normalized_simple_feature_matrix, weights)\n",
    "residuals = predictions - output\n",
    "RSS = np.dot(residuals, residuals)\n",
    "print RSS"
   ]
  },
  {
   "cell_type": "markdown",
   "metadata": {},
   "source": [
    "# Evaluating LASSO fit with more features"
   ]
  },
  {
   "cell_type": "markdown",
   "metadata": {},
   "source": [
    "Let us split the sales dataset into training and test sets."
   ]
  },
  {
   "cell_type": "code",
   "execution_count": 164,
   "metadata": {
    "collapsed": true
   },
   "outputs": [],
   "source": [
    "train_data,test_data = sales.random_split(.8,seed=0)"
   ]
  },
  {
   "cell_type": "markdown",
   "metadata": {},
   "source": [
    "Let us consider the following set of features."
   ]
  },
  {
   "cell_type": "code",
   "execution_count": 165,
   "metadata": {
    "collapsed": true
   },
   "outputs": [],
   "source": [
    "all_features = ['bedrooms',\n",
    "                'bathrooms',\n",
    "                'sqft_living',\n",
    "                'sqft_lot',\n",
    "                'floors',\n",
    "                'waterfront', \n",
    "                'view', \n",
    "                'condition', \n",
    "                'grade',\n",
    "                'sqft_above',\n",
    "                'sqft_basement',\n",
    "                'yr_built', \n",
    "                'yr_renovated']\n",
    "\n",
    "def get_non_zero_feature(weights):\n",
    "    indexes = weights.nonzero()[0]\n",
    "    features = []\n",
    "    for _index in indexes:\n",
    "        _index -= 1\n",
    "        if _index >= 0:\n",
    "            features.append(all_features[_index])\n",
    "    return features"
   ]
  },
  {
   "cell_type": "markdown",
   "metadata": {},
   "source": [
    "First, create a normalized feature matrix from the TRAINING data with these features.  (Make you store the norms for the normalization, since we'll use them later)"
   ]
  },
  {
   "cell_type": "code",
   "execution_count": 166,
   "metadata": {
    "collapsed": false
   },
   "outputs": [],
   "source": [
    "(all_feature_matrix, output) = get_numpy_data(train_data, all_features, my_output)\n",
    "(normalized_all_feature_matrix, all_norms) = normalize_features(all_feature_matrix) # normalize features"
   ]
  },
  {
   "cell_type": "markdown",
   "metadata": {},
   "source": [
    "First, learn the weights with `l1_penalty=1e7`, on the training data. Initialize weights to all zeros, and set the `tolerance=1`.  Call resulting weights `weights1e7`, you will need them later."
   ]
  },
  {
   "cell_type": "code",
   "execution_count": 167,
   "metadata": {
    "collapsed": false
   },
   "outputs": [
    {
     "name": "stdout",
     "output_type": "stream",
     "text": [
      "71114625.7528\n",
      "5024356.36869\n",
      "5012324.91395\n",
      "5000676.42086\n",
      "4991243.17314\n",
      "4984361.34335\n",
      "4979504.92921\n",
      "4973806.56525\n",
      "2879222.99938\n",
      "2706150.76622\n",
      "2532295.64864\n",
      "2368316.57782\n",
      "2213124.35067\n",
      "1552443.60013\n",
      "507838.033159\n",
      "438814.370591\n",
      "371479.622608\n",
      "313415.105581\n",
      "264244.832139\n",
      "222753.8608\n",
      "187770.667306\n",
      "158280.093357\n",
      "133420.901606\n",
      "112465.988296\n",
      "94802.2134519\n",
      "79912.6874505\n",
      "67361.6926196\n",
      "56781.942492\n",
      "47863.835752\n",
      "40346.3966195\n",
      "34009.6378518\n",
      "28668.1231465\n",
      "24165.5406129\n",
      "20370.1285268\n",
      "17170.8195088\n",
      "14473.990295\n",
      "12200.7219837\n",
      "10284.4905855\n",
      "8669.22029243\n",
      "7307.64249855\n",
      "6159.91255101\n",
      "5192.44375234\n",
      "4376.92449333\n",
      "3689.48975359\n",
      "3110.02272543\n",
      "2621.56612397\n",
      "2209.82595598\n",
      "1862.75322644\n",
      "1570.19134161\n",
      "1323.57889082\n",
      "1115.69910862\n",
      "940.468686543\n",
      "792.759753536\n",
      "668.24981609\n",
      "563.295266584\n",
      "474.824758224\n",
      "400.249326415\n",
      "337.38662637\n",
      "284.397069871\n",
      "239.729992338\n",
      "202.078274757\n",
      "170.340092748\n",
      "143.586673204\n",
      "121.035115022\n",
      "102.025478713\n",
      "86.0014740676\n",
      "72.4941812083\n",
      "61.1083282791\n",
      "51.5107243322\n",
      "43.4205090702\n",
      "36.6009337157\n",
      "30.8524330594\n",
      "26.0067853257\n",
      "21.9221894518\n",
      "18.4791155271\n",
      "15.5768068507\n",
      "13.1303314269\n",
      "11.068096634\n",
      "9.32975407317\n",
      "7.8644336015\n",
      "6.62925468758\n",
      "5.58807154372\n",
      "4.71041543782\n",
      "3.97060299292\n",
      "3.34698464721\n",
      "2.82131108269\n",
      "2.37819918618\n",
      "2.00468195602\n",
      "1.68982890621\n",
      "1.42442631721\n",
      "1.20070755109\n",
      "1.01212581247\n",
      "0.853162482381\n",
      "[ 24429600.60933314         0.                 0.          48389174.35227978\n",
      "         0.                 0.           3317511.16271981   7329961.9848964\n",
      "         0.                 0.                 0.                 0.\n",
      "         0.                 0.        ]\n",
      "['sqft_living', 'waterfront', 'view']\n"
     ]
    }
   ],
   "source": [
    "initial_weights = np.zeros(len(all_features)+1)\n",
    "l1_penalty = 1e7\n",
    "tolerance = 1.0\n",
    "weights1e7 = lasso_cyclical_coordinate_descent(normalized_all_feature_matrix, output,\n",
    "                                            initial_weights, l1_penalty, tolerance)\n",
    "print weights1e7\n",
    "print get_non_zero_feature(weights1e7)"
   ]
  },
  {
   "cell_type": "markdown",
   "metadata": {},
   "source": [
    "***QUIZ QUESTION***\n",
    "\n",
    "What features had non-zero weight in this case?"
   ]
  },
  {
   "cell_type": "markdown",
   "metadata": {
    "collapsed": true
   },
   "source": [
    "Next, learn the weights with `l1_penalty=1e8`, on the training data. Initialize weights to all zeros, and set the `tolerance=1`.  Call resulting weights `weights1e8`, you will need them later."
   ]
  },
  {
   "cell_type": "code",
   "execution_count": 168,
   "metadata": {
    "collapsed": false
   },
   "outputs": [
    {
     "name": "stdout",
     "output_type": "stream",
     "text": [
      "71114625.7528\n",
      "0\n",
      "[ 71114625.75280938         0.                 0.                 0.\n",
      "         0.                 0.                 0.                 0.\n",
      "         0.                 0.                 0.                 0.\n",
      "         0.                 0.        ]\n",
      "[]\n"
     ]
    }
   ],
   "source": [
    "initial_weights = np.zeros(len(all_features)+1)\n",
    "l1_penalty = 1e8\n",
    "tolerance = 1.0\n",
    "weights1e8 = lasso_cyclical_coordinate_descent(normalized_all_feature_matrix, output,\n",
    "                                            initial_weights, l1_penalty, tolerance)\n",
    "print weights1e8\n",
    "print get_non_zero_feature(weights1e8)"
   ]
  },
  {
   "cell_type": "markdown",
   "metadata": {},
   "source": [
    "***QUIZ QUESTION***\n",
    "\n",
    "What features had non-zero weight in this case?"
   ]
  },
  {
   "cell_type": "markdown",
   "metadata": {},
   "source": [
    "Finally, learn the weights with `l1_penalty=1e4`, on the training data. Initialize weights to all zeros, and set the `tolerance=5e5`.  Call resulting weights `weights1e4`, you will need them later.  (This case will take quite a bit longer to converge than the others above.)"
   ]
  },
  {
   "cell_type": "code",
   "execution_count": 144,
   "metadata": {
    "collapsed": false
   },
   "outputs": [
    {
     "name": "stdout",
     "output_type": "stream",
     "text": [
      "71114625.7528\n",
      "8464015.94738\n",
      "6818451.35869\n",
      "5570165.21901\n",
      "4559838.46759\n",
      "3732056.69715\n",
      "3053211.61353\n",
      "2497517.43558\n",
      "2043868.97325\n",
      "1674717.70906\n",
      "1375420.75692\n",
      "1296621.8143\n",
      "1257340.9361\n",
      "1228271.24819\n",
      "1206854.36471\n",
      "1191059.40598\n",
      "1179030.77017\n",
      "1169777.43345\n",
      "1162340.67589\n",
      "1155980.52901\n",
      "1150139.67966\n",
      "1144406.32752\n",
      "1138483.91805\n",
      "1132166.57169\n",
      "1125319.16778\n",
      "1117861.24888\n",
      "1109754.06282\n",
      "1100990.17907\n",
      "1091585.21244\n",
      "1081571.26761\n",
      "1070991.78405\n",
      "1059897.51701\n",
      "1048343.43631\n",
      "1036386.3636\n",
      "1024083.20068\n",
      "1011489.62847\n",
      "998659.178392\n",
      "985642.596017\n",
      "972487.432403\n",
      "959237.810727\n",
      "945934.326266\n",
      "932614.046118\n",
      "919310.581988\n",
      "906054.214956\n",
      "892872.055697\n",
      "879109.302243\n",
      "866038.266742\n",
      "853191.44943\n",
      "840521.781012\n",
      "828028.403962\n",
      "815717.920819\n",
      "803598.206378\n",
      "791676.769693\n",
      "779960.222854\n",
      "768454.139375\n",
      "757163.05916\n",
      "746090.546302\n",
      "735239.263812\n",
      "724611.051693\n",
      "714002.910141\n",
      "703393.002342\n",
      "693038.299304\n",
      "682960.589206\n",
      "673155.135299\n",
      "663513.600594\n",
      "654148.681361\n",
      "645045.446052\n",
      "636191.878813\n",
      "627577.229773\n",
      "619191.96692\n",
      "611027.657019\n",
      "603076.796131\n",
      "595332.640574\n",
      "587789.058274\n",
      "580440.404721\n",
      "573281.422008\n",
      "566307.157817\n",
      "559512.901092\n",
      "552894.131446\n",
      "546446.479774\n",
      "540165.69795\n",
      "534047.63585\n",
      "528088.224232\n",
      "522283.462294\n",
      "516629.408909\n",
      "511122.176757\n",
      "505757.928682\n",
      "500532.875758\n",
      "495443.276635\n",
      "[ 77779073.91265255 -22884012.25023362  15348487.08089994\n",
      "  92166869.69883072  -2139328.0824278   -8818455.54409496\n",
      "   6494209.73310655   7065162.05053197   4119079.21006759\n",
      "  18436483.52618775 -14566678.54514335  -5528348.75179425\n",
      " -83591746.20730558   2784276.46012858]\n",
      "['bedrooms', 'bathrooms', 'sqft_living', 'sqft_lot', 'floors', 'waterfront', 'view', 'condition', 'grade', 'sqft_above', 'sqft_basement', 'yr_built', 'yr_renovated']\n"
     ]
    }
   ],
   "source": [
    "initial_weights = np.zeros(len(all_features)+1)\n",
    "l1_penalty = 1e4\n",
    "tolerance = 5e5\n",
    "weights1e4 = lasso_cyclical_coordinate_descent(normalized_all_feature_matrix, output,\n",
    "                                            initial_weights, l1_penalty, tolerance)\n",
    "print weights1e4\n",
    "print get_non_zero_feature(weights1e4)"
   ]
  },
  {
   "cell_type": "markdown",
   "metadata": {},
   "source": [
    "***QUIZ QUESTION***\n",
    "\n",
    "What features had non-zero weight in this case?"
   ]
  },
  {
   "cell_type": "markdown",
   "metadata": {},
   "source": [
    "## Rescaling learned weights"
   ]
  },
  {
   "cell_type": "markdown",
   "metadata": {},
   "source": [
    "Recall that we normalized our feature matrix, before learning the weights.  To use these weights on a test set, we must normalize the test data in the same way.\n",
    "\n",
    "Alternatively, we can rescale the learned weights to include the normalization, so we never have to worry about normalizing the test data: \n",
    "\n",
    "In this case, we must scale the resulting weights so that we can make predictions with *original* features:\n",
    " 1. Store the norms of the original features to a vector called `norms`:\n",
    "```\n",
    "features, norms = normalize_features(features)\n",
    "```\n",
    " 2. Run Lasso on the normalized features and obtain a `weights` vector\n",
    " 3. Compute the weights for the original features by performing element-wise division, i.e.\n",
    "```\n",
    "weights_normalized = weights / norms\n",
    "```\n",
    "Now, we can apply `weights_normalized` to the test data, without normalizing it!"
   ]
  },
  {
   "cell_type": "markdown",
   "metadata": {},
   "source": [
    "Create a normalized version of each of the weights learned above. (`weights1e4`, `weights1e7`, `weights1e8`)."
   ]
  },
  {
   "cell_type": "code",
   "execution_count": 145,
   "metadata": {
    "collapsed": false
   },
   "outputs": [
    {
     "name": "stdout",
     "output_type": "stream",
     "text": [
      "[ 24429600.60933314         0.                 0.          48389174.35227978\n",
      "         0.                 0.           3317511.16271981   7329961.9848964\n",
      "         0.                 0.                 0.                 0.\n",
      "         0.                 0.        ]\n",
      "[  1.85285533e+05   0.00000000e+00   0.00000000e+00   1.61317456e+02\n",
      "   0.00000000e+00   0.00000000e+00   2.87664700e+05   6.91937057e+04\n",
      "   0.00000000e+00   0.00000000e+00   0.00000000e+00   0.00000000e+00\n",
      "   0.00000000e+00   0.00000000e+00]\n",
      "161.317456248\n"
     ]
    }
   ],
   "source": [
    "weights1e4_normalized = weights1e4 / all_norms\n",
    "weights1e7_normalized = weights1e7 / all_norms\n",
    "weights1e8_normalized = weights1e8 / all_norms\n",
    "print weights1e7\n",
    "print weights1e7_normalized\n",
    "print weights1e7_normalized[3]"
   ]
  },
  {
   "cell_type": "markdown",
   "metadata": {},
   "source": [
    "To check your results, if you call `normalized_weights1e7` the normalized version of `weights1e7`, then:\n",
    "```\n",
    "print normalized_weights1e7[3]\n",
    "```\n",
    "should return 161.31745624837794."
   ]
  },
  {
   "cell_type": "markdown",
   "metadata": {},
   "source": [
    "## Evaluating each of the learned models on the test data"
   ]
  },
  {
   "cell_type": "markdown",
   "metadata": {},
   "source": [
    "Let's now evaluate the three models on the test data:"
   ]
  },
  {
   "cell_type": "code",
   "execution_count": 146,
   "metadata": {
    "collapsed": true
   },
   "outputs": [],
   "source": [
    "(test_feature_matrix, test_output) = get_numpy_data(test_data, all_features, 'price')"
   ]
  },
  {
   "cell_type": "markdown",
   "metadata": {},
   "source": [
    "Compute the RSS of each of the three normalized weights on the (unnormalized) `test_feature_matrix`:"
   ]
  },
  {
   "cell_type": "code",
   "execution_count": 147,
   "metadata": {
    "collapsed": false
   },
   "outputs": [
    {
     "name": "stdout",
     "output_type": "stream",
     "text": [
      "2.2778100476e+14\n"
     ]
    }
   ],
   "source": [
    "prediction = np.dot(test_feature_matrix, weights1e4_normalized)\n",
    "residuals = prediction - test_output\n",
    "RSS = np.dot(residuals, residuals)\n",
    "print RSS"
   ]
  },
  {
   "cell_type": "code",
   "execution_count": 148,
   "metadata": {
    "collapsed": false
   },
   "outputs": [
    {
     "name": "stdout",
     "output_type": "stream",
     "text": [
      "2.75962079909e+14\n"
     ]
    }
   ],
   "source": [
    "prediction = np.dot(test_feature_matrix, weights1e7_normalized)\n",
    "residuals = prediction - test_output\n",
    "RSS = np.dot(residuals, residuals)\n",
    "print RSS"
   ]
  },
  {
   "cell_type": "code",
   "execution_count": 149,
   "metadata": {
    "collapsed": false
   },
   "outputs": [
    {
     "name": "stdout",
     "output_type": "stream",
     "text": [
      "5.37166150034e+14\n"
     ]
    }
   ],
   "source": [
    "prediction = np.dot(test_feature_matrix, weights1e8_normalized)\n",
    "residuals = prediction - test_output\n",
    "RSS = np.dot(residuals, residuals)\n",
    "print RSS"
   ]
  },
  {
   "cell_type": "markdown",
   "metadata": {},
   "source": [
    "***QUIZ QUESTION***\n",
    "\n",
    "Which model performed best on the test data?"
   ]
  }
 ],
 "metadata": {
  "kernelspec": {
   "display_name": "Python 2",
   "language": "python",
   "name": "python2"
  },
  "language_info": {
   "codemirror_mode": {
    "name": "ipython",
    "version": 2
   },
   "file_extension": ".py",
   "mimetype": "text/x-python",
   "name": "python",
   "nbconvert_exporter": "python",
   "pygments_lexer": "ipython2",
   "version": "2.7.13"
  }
 },
 "nbformat": 4,
 "nbformat_minor": 0
}
